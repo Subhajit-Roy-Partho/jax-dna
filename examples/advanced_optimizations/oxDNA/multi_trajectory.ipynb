{
 "cells": [
  {
   "cell_type": "markdown",
   "metadata": {},
   "source": [
    "## An example optimziation using a single objective and multiple simulators\n"
   ]
  },
  {
   "cell_type": "code",
   "execution_count": 1,
   "metadata": {},
   "outputs": [
    {
     "data": {
      "text/plain": [
       "'/home/ryan/repos/jax-dna'"
      ]
     },
     "execution_count": 1,
     "metadata": {},
     "output_type": "execute_result"
    }
   ],
   "source": [
    "import os\n",
    "os.chdir(os.path.join(os.getcwd() ,\"../../..\"))\n",
    "os.getcwd()"
   ]
  },
  {
   "cell_type": "code",
   "execution_count": 2,
   "metadata": {},
   "outputs": [
    {
     "name": "stderr",
     "output_type": "stream",
     "text": [
      "An NVIDIA GPU may be present on this machine, but a CUDA-enabled jaxlib is not installed. Falling back to cpu.\n"
     ]
    }
   ],
   "source": [
    "import functools\n",
    "import itertools\n",
    "import logging\n",
    "import os\n",
    "from pathlib import Path\n",
    "import shutil\n",
    "import typing\n",
    "import warnings\n",
    "import jax\n",
    "import jax.numpy as jnp\n",
    "import jax_md\n",
    "import optax\n",
    "import ray\n",
    "\n",
    "import jax_dna.energy as jdna_energy\n",
    "import jax_dna.energy.dna1 as dna1_energy\n",
    "import jax_dna.input.toml as toml_reader\n",
    "import jax_dna.input.trajectory as jdna_traj\n",
    "import jax_dna.input.topology as jdna_top\n",
    "import jax_dna.input.tree as jdna_tree\n",
    "import jax_dna.observables as jd_obs\n",
    "import jax_dna.optimization.simulator as jdna_simulator\n",
    "import jax_dna.optimization.objective as jdna_objective\n",
    "import jax_dna.optimization.optimization as jdna_optimization\n",
    "import jax_dna.simulators.oxdna as oxdna\n",
    "import jax_dna.simulators.io as jdna_sio\n",
    "import jax_dna.utils.types as jdna_types\n",
    "import jax_dna.ui.loggers.jupyter as jupyter_logger\n",
    "\n",
    "jax.config.update(\"jax_enable_x64\", True)"
   ]
  },
  {
   "cell_type": "code",
   "execution_count": 3,
   "metadata": {},
   "outputs": [],
   "source": [
    "# This is a function that combines multiple gradients into a single gradient\n",
    "# our example will only use a single gradient, so it will just be the identity function\n",
    "def tree_mean(trees:tuple[jdna_types.PyTree]) -> jdna_types.PyTree:\n",
    "    if len(trees) <= 1:\n",
    "        return trees[0]\n",
    "    summed = jax.tree.map(operator.add, *trees)\n",
    "    return jax.tree.map(lambda x: x / len(trees), summed)"
   ]
  },
  {
   "cell_type": "code",
   "execution_count": 4,
   "metadata": {},
   "outputs": [
    {
     "name": "stderr",
     "output_type": "stream",
     "text": [
      "/home/ryan/miniforge3/envs/jax-cpu/lib/python3.11/subprocess.py:1832: RuntimeWarning: os.fork() was called. os.fork() is incompatible with multithreaded code, and JAX is multithreaded, so this will likely lead to a deadlock.\n",
      "  self.pid = _fork_exec(\n",
      "2025-01-30 16:26:13,206\tINFO worker.py:1816 -- Started a local Ray instance.\n"
     ]
    },
    {
     "data": {
      "application/vnd.jupyter.widget-view+json": {
       "model_id": "2472a311f7274967b6aa0b9b301ad4ad",
       "version_major": 2,
       "version_minor": 0
      },
      "text/html": [
       "<div class=\"lm-Widget p-Widget lm-Panel p-Panel jp-Cell-outputWrapper\">\n",
       "    <div style=\"margin-left: 50px;display: flex;flex-direction: row;align-items: center\">\n",
       "        <div class=\"jp-RenderedHTMLCommon\" style=\"display: flex; flex-direction: row;\">\n",
       "  <svg viewBox=\"0 0 567 224\" fill=\"none\" xmlns=\"http://www.w3.org/2000/svg\" style=\"height: 3em;\">\n",
       "    <g clip-path=\"url(#clip0_4338_178347)\">\n",
       "        <path d=\"M341.29 165.561H355.29L330.13 129.051C345.63 123.991 354.21 112.051 354.21 94.2307C354.21 71.3707 338.72 58.1807 311.88 58.1807H271V165.561H283.27V131.661H311.8C314.25 131.661 316.71 131.501 319.01 131.351L341.25 165.561H341.29ZM283.29 119.851V70.0007H311.82C331.3 70.0007 342.34 78.2907 342.34 94.5507C342.34 111.271 331.34 119.861 311.82 119.861L283.29 119.851ZM451.4 138.411L463.4 165.561H476.74L428.74 58.1807H416L367.83 165.561H380.83L392.83 138.411H451.4ZM446.19 126.601H398L422 72.1407L446.24 126.601H446.19ZM526.11 128.741L566.91 58.1807H554.35L519.99 114.181L485.17 58.1807H472.44L514.01 129.181V165.541H526.13V128.741H526.11Z\" fill=\"var(--jp-ui-font-color0)\"/>\n",
       "        <path d=\"M82.35 104.44C84.0187 97.8827 87.8248 92.0678 93.1671 87.9146C98.5094 83.7614 105.083 81.5067 111.85 81.5067C118.617 81.5067 125.191 83.7614 130.533 87.9146C135.875 92.0678 139.681 97.8827 141.35 104.44H163.75C164.476 101.562 165.622 98.8057 167.15 96.2605L127.45 56.5605C121.071 60.3522 113.526 61.6823 106.235 60.3005C98.9443 58.9187 92.4094 54.9203 87.8602 49.0574C83.3109 43.1946 81.0609 35.8714 81.5332 28.4656C82.0056 21.0599 85.1679 14.0819 90.4252 8.8446C95.6824 3.60726 102.672 0.471508 110.08 0.0272655C117.487 -0.416977 124.802 1.86091 130.647 6.4324C136.493 11.0039 140.467 17.5539 141.821 24.8501C143.175 32.1463 141.816 39.6859 138 46.0505L177.69 85.7505C182.31 82.9877 187.58 81.4995 192.962 81.4375C198.345 81.3755 203.648 82.742 208.33 85.3976C213.012 88.0532 216.907 91.9029 219.616 96.5544C222.326 101.206 223.753 106.492 223.753 111.875C223.753 117.258 222.326 122.545 219.616 127.197C216.907 131.848 213.012 135.698 208.33 138.353C203.648 141.009 198.345 142.375 192.962 142.313C187.58 142.251 182.31 140.763 177.69 138L138 177.7C141.808 184.071 143.155 191.614 141.79 198.91C140.424 206.205 136.44 212.75 130.585 217.313C124.731 221.875 117.412 224.141 110.004 223.683C102.596 223.226 95.6103 220.077 90.3621 214.828C85.1139 209.58 81.9647 202.595 81.5072 195.187C81.0497 187.779 83.3154 180.459 87.878 174.605C92.4405 168.751 98.9853 164.766 106.281 163.401C113.576 162.035 121.119 163.383 127.49 167.19L167.19 127.49C165.664 124.941 164.518 122.182 163.79 119.3H141.39C139.721 125.858 135.915 131.673 130.573 135.826C125.231 139.98 118.657 142.234 111.89 142.234C105.123 142.234 98.5494 139.98 93.2071 135.826C87.8648 131.673 84.0587 125.858 82.39 119.3H60C58.1878 126.495 53.8086 132.78 47.6863 136.971C41.5641 141.163 34.1211 142.972 26.7579 142.059C19.3947 141.146 12.6191 137.574 7.70605 132.014C2.79302 126.454 0.0813599 119.29 0.0813599 111.87C0.0813599 104.451 2.79302 97.2871 7.70605 91.7272C12.6191 86.1673 19.3947 82.5947 26.7579 81.6817C34.1211 80.7686 41.5641 82.5781 47.6863 86.7696C53.8086 90.9611 58.1878 97.2456 60 104.44H82.35ZM100.86 204.32C103.407 206.868 106.759 208.453 110.345 208.806C113.93 209.159 117.527 208.258 120.522 206.256C123.517 204.254 125.725 201.276 126.771 197.828C127.816 194.38 127.633 190.677 126.253 187.349C124.874 184.021 122.383 181.274 119.205 179.577C116.027 177.88 112.359 177.337 108.826 178.042C105.293 178.746 102.113 180.654 99.8291 183.44C97.5451 186.226 96.2979 189.718 96.3 193.32C96.2985 195.364 96.7006 197.388 97.4831 199.275C98.2656 201.163 99.4132 202.877 100.86 204.32ZM204.32 122.88C206.868 120.333 208.453 116.981 208.806 113.396C209.159 109.811 208.258 106.214 206.256 103.219C204.254 100.223 201.275 98.0151 197.827 96.97C194.38 95.9249 190.676 96.1077 187.348 97.4873C184.02 98.8669 181.274 101.358 179.577 104.536C177.879 107.714 177.337 111.382 178.041 114.915C178.746 118.448 180.653 121.627 183.439 123.911C186.226 126.195 189.717 127.443 193.32 127.44C195.364 127.443 197.388 127.042 199.275 126.259C201.163 125.476 202.878 124.328 204.32 122.88ZM122.88 19.4205C120.333 16.8729 116.981 15.2876 113.395 14.9347C109.81 14.5817 106.213 15.483 103.218 17.4849C100.223 19.4868 98.0146 22.4654 96.9696 25.9131C95.9245 29.3608 96.1073 33.0642 97.4869 36.3922C98.8665 39.7202 101.358 42.4668 104.535 44.1639C107.713 45.861 111.381 46.4036 114.914 45.6992C118.447 44.9949 121.627 43.0871 123.911 40.301C126.195 37.515 127.442 34.0231 127.44 30.4205C127.44 28.3772 127.038 26.3539 126.255 24.4664C125.473 22.5788 124.326 20.8642 122.88 19.4205ZM19.42 100.86C16.8725 103.408 15.2872 106.76 14.9342 110.345C14.5813 113.93 15.4826 117.527 17.4844 120.522C19.4863 123.518 22.4649 125.726 25.9127 126.771C29.3604 127.816 33.0638 127.633 36.3918 126.254C39.7198 124.874 42.4664 122.383 44.1635 119.205C45.8606 116.027 46.4032 112.359 45.6988 108.826C44.9944 105.293 43.0866 102.114 40.3006 99.8296C37.5145 97.5455 34.0227 96.2983 30.42 96.3005C26.2938 96.3018 22.337 97.9421 19.42 100.86ZM100.86 100.86C98.3125 103.408 96.7272 106.76 96.3742 110.345C96.0213 113.93 96.9226 117.527 98.9244 120.522C100.926 123.518 103.905 125.726 107.353 126.771C110.8 127.816 114.504 127.633 117.832 126.254C121.16 124.874 123.906 122.383 125.604 119.205C127.301 116.027 127.843 112.359 127.139 108.826C126.434 105.293 124.527 102.114 121.741 99.8296C118.955 97.5455 115.463 96.2983 111.86 96.3005C109.817 96.299 107.793 96.701 105.905 97.4835C104.018 98.2661 102.303 99.4136 100.86 100.86Z\" fill=\"#00AEEF\"/>\n",
       "    </g>\n",
       "    <defs>\n",
       "        <clipPath id=\"clip0_4338_178347\">\n",
       "            <rect width=\"566.93\" height=\"223.75\" fill=\"white\"/>\n",
       "        </clipPath>\n",
       "    </defs>\n",
       "  </svg>\n",
       "</div>\n",
       "\n",
       "        <table class=\"jp-RenderedHTMLCommon\" style=\"border-collapse: collapse;color: var(--jp-ui-font-color1);font-size: var(--jp-ui-font-size1);\">\n",
       "    <tr>\n",
       "        <td style=\"text-align: left\"><b>Python version:</b></td>\n",
       "        <td style=\"text-align: left\"><b>3.11.0</b></td>\n",
       "    </tr>\n",
       "    <tr>\n",
       "        <td style=\"text-align: left\"><b>Ray version:</b></td>\n",
       "        <td style=\"text-align: left\"><b>2.38.0</b></td>\n",
       "    </tr>\n",
       "    \n",
       "</table>\n",
       "\n",
       "    </div>\n",
       "</div>\n"
      ],
      "text/plain": [
       "RayContext(dashboard_url='', python_version='3.11.0', ray_version='2.38.0', ray_commit='385ee466260ef3cd218d5e372aef5d39338b7b94')"
      ]
     },
     "execution_count": 4,
     "metadata": {},
     "output_type": "execute_result"
    }
   ],
   "source": [
    "ray.init(\n",
    "    ignore_reinit_error=True,\n",
    "    log_to_driver=True,\n",
    "    runtime_env={\n",
    "        \"env_vars\": {\n",
    "            \"JAX_ENABLE_X64\": \"True\",\n",
    "            \"JAX_PLATFORM_NAME\": \"cpu\",\n",
    "        }\n",
    "    }\n",
    ")"
   ]
  },
  {
   "cell_type": "code",
   "execution_count": 5,
   "metadata": {},
   "outputs": [],
   "source": [
    "optimization_config = {\n",
    "    \"n_steps\": 50,\n",
    "    \"oxdna_build_threads\": 4,\n",
    "    \"log_every\": 5,\n",
    "    \"n_oxdna_runs\": 3,\n",
    "}"
   ]
  },
  {
   "cell_type": "markdown",
   "metadata": {},
   "source": [
    "Setup the experiment"
   ]
  },
  {
   "cell_type": "code",
   "execution_count": 6,
   "metadata": {},
   "outputs": [],
   "source": [
    "kT = toml_reader.parse_toml(\"jax_dna/input/dna1/default_simulation.toml\")[\"kT\"]\n",
    "geometry = toml_reader.parse_toml(\"jax_dna/input/dna1/default_energy.toml\")[\"geometry\"]\n",
    "\n",
    "template_dir = Path(\"data/templates/simple-helix\")\n",
    "topology_fname = template_dir / \"sys.top\"\n",
    "\n",
    "cwd = Path(os.getcwd())"
   ]
  },
  {
   "cell_type": "markdown",
   "metadata": {},
   "source": [
    "Setup the energy function"
   ]
  },
  {
   "cell_type": "code",
   "execution_count": 7,
   "metadata": {},
   "outputs": [],
   "source": [
    "energy_fns = dna1_energy.default_energy_fns()\n",
    "energy_configs = []\n",
    "opt_params = []\n",
    "\n",
    "for ec in dna1_energy.default_energy_configs():\n",
    "    # We are only interested in the stacking configuration\n",
    "    # However we don't want to optimize ss_stack_weights and kt\n",
    "    if isinstance(ec, dna1_energy.StackingConfiguration):\n",
    "        ec = ec.replace(\n",
    "            non_optimizable_required_params=(\n",
    "                \"ss_stack_weights\",\n",
    "                \"kt\",\n",
    "            )\n",
    "        )\n",
    "        opt_params.append(ec.opt_params)\n",
    "        energy_configs.append(ec)\n",
    "    else:\n",
    "        energy_configs.append(ec)\n",
    "        opt_params.append({})\n",
    "\n",
    "transform_fn = functools.partial(\n",
    "    dna1_energy.Nucleotide.from_rigid_body,\n",
    "    com_to_backbone=geometry[\"com_to_backbone\"],\n",
    "    com_to_hb=geometry[\"com_to_hb\"],\n",
    "    com_to_stacking=geometry[\"com_to_stacking\"],\n",
    ")\n",
    "\n",
    "energy_fn_builder_fn = jdna_energy.energy_fn_builder(\n",
    "    energy_fns=energy_fns,\n",
    "    energy_configs=energy_configs,\n",
    "    transform_fn=transform_fn,\n",
    ")\n",
    "\n",
    "top = jdna_top.from_oxdna_file(topology_fname)\n",
    "def energy_fn_builder(params: jdna_types.Params) -> callable:\n",
    "    return jax.vmap(\n",
    "        lambda trajectory: energy_fn_builder_fn(params)(\n",
    "            trajectory.rigid_body,\n",
    "            seq=jnp.array(top.seq),\n",
    "            bonded_neighbors=top.bonded_neighbors,\n",
    "            unbonded_neighbors=top.unbonded_neighbors.T,\n",
    "        )\n",
    "        / top.n_nucleotides\n",
    "    )"
   ]
  },
  {
   "cell_type": "markdown",
   "metadata": {},
   "source": [
    "Setup the simulators"
   ]
  },
  {
   "cell_type": "code",
   "execution_count": 8,
   "metadata": {},
   "outputs": [
    {
     "name": "stderr",
     "output_type": "stream",
     "text": [
      "/tmp/ipykernel_260325/3089071063.py:10: UserWarning: Directory /home/ryan/repos/jax-dna/sim_outputs/sim0 already exists. Assuming that's fine.\n",
      "  warnings.warn(f\"Directory {sim_dir} already exists. Assuming that's fine.\")\n",
      "/tmp/ipykernel_260325/3089071063.py:10: UserWarning: Directory /home/ryan/repos/jax-dna/sim_outputs/sim1 already exists. Assuming that's fine.\n",
      "  warnings.warn(f\"Directory {sim_dir} already exists. Assuming that's fine.\")\n",
      "/tmp/ipykernel_260325/3089071063.py:10: UserWarning: Directory /home/ryan/repos/jax-dna/sim_outputs/sim2 already exists. Assuming that's fine.\n",
      "  warnings.warn(f\"Directory {sim_dir} already exists. Assuming that's fine.\")\n"
     ]
    }
   ],
   "source": [
    "run_flag = oxdna.oxDNABinarySemaphoreActor.remote()\n",
    "\n",
    "sim_outputs_dir = cwd / \"sim_outputs\"\n",
    "sim_outputs_dir.mkdir(parents=True, exist_ok=True)\n",
    "\n",
    "def make_simulator(id:str, disable_build:bool) -> jdna_simulator.BaseSimulator:\n",
    "    sim_dir = sim_outputs_dir / id\n",
    "\n",
    "    if sim_dir.exists():\n",
    "        warnings.warn(f\"Directory {sim_dir} already exists. Assuming that's fine.\")\n",
    "\n",
    "    sim_dir.mkdir(parents=True, exist_ok=True)\n",
    "\n",
    "    for f in template_dir.iterdir():\n",
    "        shutil.copy(f, sim_dir)\n",
    "\n",
    "    simulator = oxdna.oxDNASimulator(\n",
    "        input_dir=sim_dir,\n",
    "        sim_type=jdna_types.oxDNASimulatorType.DNA1,\n",
    "        energy_configs=energy_configs,\n",
    "        n_build_threads=optimization_config[\"oxdna_build_threads\"],\n",
    "        disable_build=disable_build,\n",
    "        check_build_ready=lambda: ray.get(run_flag.check.remote()),\n",
    "        set_build_ready=run_flag.set.remote,\n",
    "    )\n",
    "\n",
    "    output_dir = sim_dir / \"trajectory\"\n",
    "    trajectory_loc = output_dir / \"trajectory.pkl\"\n",
    "    if not output_dir.exists():\n",
    "        output_dir.mkdir(parents=True, exist_ok=True)\n",
    "\n",
    "    def simulator_fn(\n",
    "        params: jdna_types.Params,\n",
    "        meta: jdna_types.MetaData,\n",
    "    ) -> tuple[str, str]:\n",
    "        simulator.run(params)\n",
    "\n",
    "        ox_traj = jdna_traj.from_file(\n",
    "            sim_dir / \"output.dat\",\n",
    "            strand_lengths=top.strand_counts,\n",
    "        )\n",
    "        traj = jdna_sio.SimulatorTrajectory(\n",
    "            rigid_body=ox_traj.state_rigid_body,\n",
    "        )\n",
    "\n",
    "        jdna_tree.save_pytree(traj, trajectory_loc)\n",
    "        return [trajectory_loc]\n",
    "\n",
    "    return jdna_simulator.SimulatorActor.options(\n",
    "        runtime_env={\n",
    "            \"env_vars\": {\n",
    "                oxdna.BIN_PATH_ENV_VAR: str(Path(\"../oxDNA/build/bin/oxDNA\").resolve()),\n",
    "                oxdna.BUILD_PATH_ENV_VAR: str(Path(\"../oxDNA/build\").resolve()),\n",
    "            },\n",
    "        },\n",
    "    ).remote(\n",
    "        name=id,\n",
    "        fn=simulator_fn,\n",
    "        exposes=[f\"traj-{id}\",],\n",
    "        meta_data={},\n",
    "    )\n",
    "\n",
    "\n",
    "sim_ids = [f\"sim{i}\" for i in range(optimization_config[\"n_oxdna_runs\"])]\n",
    "traj_ids = [f\"traj-{id}\" for id in sim_ids]\n",
    "\n",
    "simulators = [make_simulator(*id_db) for id_db in zip(sim_ids, [False] + [True]*(len(sim_ids)-1))]"
   ]
  },
  {
   "cell_type": "markdown",
   "metadata": {},
   "source": [
    "Setup the objective"
   ]
  },
  {
   "cell_type": "code",
   "execution_count": 9,
   "metadata": {},
   "outputs": [],
   "source": [
    "prop_twist_fn = jd_obs.propeller.PropellerTwist(\n",
    "    rigid_body_transform_fn=transform_fn,\n",
    "    h_bonded_base_pairs=jnp.array([[1, 14], [2, 13], [3, 12], [4, 11], [5, 10], [6, 9]]),\n",
    ")\n",
    "\n",
    "def prop_twist_loss_fn(\n",
    "    traj: jax_md.rigid_body.RigidBody,\n",
    "    weights: jnp.ndarray,\n",
    "    energy_model: jdna_energy.base.ComposedEnergyFunction,\n",
    ") -> tuple[float, tuple[str, typing.Any]]:\n",
    "    obs = prop_twist_fn(traj)\n",
    "    expected_prop_twist = jnp.dot(weights, obs)\n",
    "    loss = (expected_prop_twist - jd_obs.propeller.TARGETS[\"oxDNA\"]) ** 2\n",
    "    loss = jnp.sqrt(loss)\n",
    "    return loss, ((\"prop_twist\", expected_prop_twist), {})\n",
    "\n",
    "propeller_twist_objective = jdna_objective.DiffTReObjectiveActor.remote(\n",
    "    name=\"prop_twist\",\n",
    "    required_observables=traj_ids,\n",
    "    needed_observables=traj_ids,\n",
    "    logging_observables=[\"loss\", \"prop_twist\"],\n",
    "    grad_or_loss_fn=prop_twist_loss_fn,\n",
    "    energy_fn_builder=energy_fn_builder,\n",
    "    opt_params=opt_params,\n",
    "    min_n_eff_factor=0.95,\n",
    "    beta=jnp.array(1 / kT, dtype=jnp.float64),\n",
    "    n_equilibration_steps=0,\n",
    "    max_valid_opt_steps=10,\n",
    ")"
   ]
  },
  {
   "cell_type": "code",
   "execution_count": 10,
   "metadata": {},
   "outputs": [
    {
     "name": "stderr",
     "output_type": "stream",
     "text": [
      "/home/ryan/repos/jax-dna/jax_dna/ui/loggers/logger.py:33: UserWarning: `log_dir` not results might not be saved to disk.\n",
      "  warnings.warn(MISSING_LOGDIR_WANING, stacklevel=1)\n",
      "/home/ryan/repos/jax-dna/jax_dna/ui/loggers/jupyter.py:52: UserWarning: The number of rows and columns is less than the number of plots. Adjusting the number of rows and columns.\n",
      "  warnings.warn(WARN_INVALID_NCOLS_NROWS, UserWarning, stacklevel=1)\n"
     ]
    },
    {
     "data": {
      "application/vnd.jupyter.widget-view+json": {
       "model_id": "715b3c831e60439bb364e4de31c354de",
       "version_major": 2,
       "version_minor": 0
      },
      "text/plain": [
       "VBox(children=(Label(value='Optimization Status'), HBox(children=(IntProgress(value=0, bar_style='info', descr…"
      ]
     },
     "execution_count": 10,
     "metadata": {},
     "output_type": "execute_result"
    }
   ],
   "source": [
    "\n",
    "params_to_log = [\n",
    "    \"eps_stack_base\",\n",
    "    \"eps_stack_kt_coeff\",\n",
    "    [\n",
    "        \"dr_low_stack\",\n",
    "        \"dr_high_stack\",\n",
    "        \"a_stack\",\n",
    "        \"dr0_stack\",\n",
    "        \"dr_c_stack\",\n",
    "    ],\n",
    "    [\n",
    "        \"theta0_stack_4\",\n",
    "        \"delta_theta_star_stack_4\",\n",
    "        \"a_stack_4\",\n",
    "    ],\n",
    "    [\n",
    "        \"theta0_stack_5\",\n",
    "        \"delta_theta_star_stack_5\",\n",
    "        \"a_stack_5\",\n",
    "    ],\n",
    "    [\n",
    "        \"theta0_stack_6\",\n",
    "        \"delta_theta_star_stack_6\",\n",
    "        \"a_stack_6\",\n",
    "    ],\n",
    "    [\n",
    "        \"neg_cos_phi1_star_stack\",\n",
    "        \"a_stack_1\",\n",
    "    ],\n",
    "    [\n",
    "        \"neg_cos_phi2_star_stack\",\n",
    "        \"a_stack_2\",\n",
    "    ],\n",
    "\n",
    "]\n",
    "params_list_flat = list(itertools.chain.from_iterable([[p,] if isinstance(p,str) else p for p in params_to_log]))\n",
    "\n",
    "logger = jupyter_logger.JupyterLogger(\n",
    "    simulators=sim_ids,\n",
    "    observables=traj_ids,\n",
    "    objectives=[\"prop_twist\"],\n",
    "    metrics_to_log=[\"loss\", [\"prop_twist\", \"target_ptwist\"]] + params_to_log,\n",
    "    max_opt_steps=optimization_config[\"n_steps\"],\n",
    "    plots_size_px=(900, 1400),\n",
    "    plots_nrows_ncols = (3, 1)\n",
    ")\n",
    "logger.show()"
   ]
  },
  {
   "cell_type": "markdown",
   "metadata": {},
   "source": [
    "Make the optimizer\n"
   ]
  },
  {
   "cell_type": "code",
   "execution_count": 11,
   "metadata": {},
   "outputs": [],
   "source": [
    "# Optimization =============================================================\n",
    "objectives = [propeller_twist_objective]\n",
    "\n",
    "opt = jdna_optimization.Optimization(\n",
    "    objectives=objectives,\n",
    "    simulators=simulators,\n",
    "    optimizer = optax.adam(learning_rate=1e-3),\n",
    "    aggregate_grad_fn=tree_mean,\n",
    "    logger=logger,\n",
    ")\n",
    "# =========================================================================="
   ]
  },
  {
   "cell_type": "code",
   "execution_count": 12,
   "metadata": {},
   "outputs": [
    {
     "data": {
      "text/plain": [
       "21.7"
      ]
     },
     "execution_count": 12,
     "metadata": {},
     "output_type": "execute_result"
    }
   ],
   "source": [
    "jd_obs.propeller.TARGETS[\"oxDNA\"]"
   ]
  },
  {
   "cell_type": "markdown",
   "metadata": {},
   "source": [
    "Run the optimization"
   ]
  },
  {
   "cell_type": "code",
   "execution_count": null,
   "metadata": {},
   "outputs": [
    {
     "name": "stderr",
     "output_type": "stream",
     "text": [
      "\u001b[36m(SimulatorActor pid=260952)\u001b[0m An NVIDIA GPU may be present on this machine, but a CUDA-enabled jaxlib is not installed. Falling back to cpu.\n",
      "\u001b[36m(SimulatorActor pid=260951)\u001b[0m 2025-01-30 16:26:20,639 INFO:jax_dna.simulators.oxdna.oxdna:Updating oxDNA parameters\n",
      "\u001b[36m(SimulatorActor pid=260951)\u001b[0m 2025-01-30 16:27:20,546 INFO:jax_dna.simulators.oxdna.oxdna:oxDNA binary rebuilt\n",
      "\u001b[36m(SimulatorActor pid=260951)\u001b[0m 2025-01-30 16:27:20,546 INFO:jax_dna.simulators.oxdna.oxdna:oxDNA input file: /home/ryan/repos/jax-dna/sim_outputs/sim0/input\n",
      "\u001b[36m(SimulatorActor pid=260951)\u001b[0m 2025-01-30 16:27:20,548 INFO:jax_dna.simulators.oxdna.oxdna:Starting oxDNA simulation\n",
      "\u001b[36m(SimulatorActor pid=260951)\u001b[0m An NVIDIA GPU may be present on this machine, but a CUDA-enabled jaxlib is not installed. Falling back to cpu.\u001b[32m [repeated 4x across cluster] (Ray deduplicates logs by default. Set RAY_DEDUP_LOGS=0 to disable log deduplication, or see https://docs.ray.io/en/master/ray-observability/user-guides/configure-logging.html#log-deduplication for more options.)\u001b[0m\n",
      "\u001b[36m(SimulatorActor pid=260951)\u001b[0m 2025-01-30 16:27:21,025 INFO:jax_dna.simulators.oxdna.oxdna:oxDNA simulation complete\n",
      "\u001b[36m(SimulatorActor pid=260950)\u001b[0m 2025-01-30 16:27:20,647 INFO:jax_dna.simulators.oxdna.oxdna:oxDNA input file: /home/ryan/repos/jax-dna/sim_outputs/sim1/input\u001b[32m [repeated 2x across cluster]\u001b[0m\n",
      "\u001b[36m(SimulatorActor pid=260950)\u001b[0m 2025-01-30 16:27:20,650 INFO:jax_dna.simulators.oxdna.oxdna:Starting oxDNA simulation\u001b[32m [repeated 2x across cluster]\u001b[0m\n",
      "\u001b[36m(SimulatorActor pid=260952)\u001b[0m An NVIDIA GPU may be present on this machine, but a CUDA-enabled jaxlib is not installed. Falling back to cpu.\u001b[32m [repeated 4x across cluster]\u001b[0m\n",
      "\u001b[36m(SimulatorActor pid=260950)\u001b[0m 2025-01-30 16:27:21,156 INFO:jax_dna.simulators.oxdna.oxdna:oxDNA simulation complete\u001b[32m [repeated 2x across cluster]\u001b[0m\n",
      "\u001b[36m(SimulatorActor pid=260951)\u001b[0m 2025-01-30 16:27:55,085 INFO:jax_dna.simulators.oxdna.oxdna:Updating oxDNA parameters\n",
      "\u001b[36m(SimulatorActor pid=260950)\u001b[0m An NVIDIA GPU may be present on this machine, but a CUDA-enabled jaxlib is not installed. Falling back to cpu.\u001b[32m [repeated 2x across cluster]\u001b[0m\n",
      "\u001b[36m(SimulatorActor pid=260951)\u001b[0m 2025-01-30 16:28:51,868 INFO:jax_dna.simulators.oxdna.oxdna:oxDNA binary rebuilt\n",
      "\u001b[36m(SimulatorActor pid=260951)\u001b[0m 2025-01-30 16:28:51,869 INFO:jax_dna.simulators.oxdna.oxdna:oxDNA input file: /home/ryan/repos/jax-dna/sim_outputs/sim0/input\n",
      "\u001b[36m(SimulatorActor pid=260951)\u001b[0m 2025-01-30 16:28:51,870 INFO:jax_dna.simulators.oxdna.oxdna:Starting oxDNA simulation\n",
      "\u001b[36m(SimulatorActor pid=260951)\u001b[0m 2025-01-30 16:28:52,352 INFO:jax_dna.simulators.oxdna.oxdna:oxDNA simulation complete\n",
      "\u001b[36m(SimulatorActor pid=260951)\u001b[0m An NVIDIA GPU may be present on this machine, but a CUDA-enabled jaxlib is not installed. Falling back to cpu.\n",
      "\u001b[36m(SimulatorActor pid=260950)\u001b[0m 2025-01-30 16:28:55,092 INFO:jax_dna.simulators.oxdna.oxdna:oxDNA input file: /home/ryan/repos/jax-dna/sim_outputs/sim1/input\u001b[32m [repeated 2x across cluster]\u001b[0m\n",
      "\u001b[36m(SimulatorActor pid=260950)\u001b[0m 2025-01-30 16:28:55,093 INFO:jax_dna.simulators.oxdna.oxdna:Starting oxDNA simulation\u001b[32m [repeated 2x across cluster]\u001b[0m\n",
      "\u001b[36m(SimulatorActor pid=260952)\u001b[0m 2025-01-30 16:28:55,623 INFO:jax_dna.simulators.oxdna.oxdna:oxDNA simulation complete\u001b[32m [repeated 2x across cluster]\u001b[0m\n",
      "\u001b[36m(SimulatorActor pid=260951)\u001b[0m An NVIDIA GPU may be present on this machine, but a CUDA-enabled jaxlib is not installed. Falling back to cpu.\u001b[32m [repeated 3x across cluster]\u001b[0m\n",
      "\u001b[36m(SimulatorActor pid=260951)\u001b[0m 2025-01-30 16:29:23,285 INFO:jax_dna.simulators.oxdna.oxdna:Updating oxDNA parameters\n",
      "\u001b[36m(SimulatorActor pid=260950)\u001b[0m An NVIDIA GPU may be present on this machine, but a CUDA-enabled jaxlib is not installed. Falling back to cpu.\u001b[32m [repeated 2x across cluster]\u001b[0m\n",
      "\u001b[36m(SimulatorActor pid=260951)\u001b[0m 2025-01-30 16:30:19,776 INFO:jax_dna.simulators.oxdna.oxdna:oxDNA binary rebuilt\n",
      "\u001b[36m(SimulatorActor pid=260951)\u001b[0m 2025-01-30 16:30:19,777 INFO:jax_dna.simulators.oxdna.oxdna:oxDNA input file: /home/ryan/repos/jax-dna/sim_outputs/sim0/input\n",
      "\u001b[36m(SimulatorActor pid=260951)\u001b[0m 2025-01-30 16:30:19,778 INFO:jax_dna.simulators.oxdna.oxdna:Starting oxDNA simulation\n",
      "\u001b[36m(SimulatorActor pid=260951)\u001b[0m 2025-01-30 16:30:20,245 INFO:jax_dna.simulators.oxdna.oxdna:oxDNA simulation complete\n",
      "\u001b[36m(SimulatorActor pid=260951)\u001b[0m An NVIDIA GPU may be present on this machine, but a CUDA-enabled jaxlib is not installed. Falling back to cpu.\n",
      "\u001b[36m(SimulatorActor pid=260950)\u001b[0m 2025-01-30 16:30:23,292 INFO:jax_dna.simulators.oxdna.oxdna:oxDNA input file: /home/ryan/repos/jax-dna/sim_outputs/sim1/input\u001b[32m [repeated 2x across cluster]\u001b[0m\n",
      "\u001b[36m(SimulatorActor pid=260950)\u001b[0m 2025-01-30 16:30:23,295 INFO:jax_dna.simulators.oxdna.oxdna:Starting oxDNA simulation\u001b[32m [repeated 2x across cluster]\u001b[0m\n",
      "\u001b[36m(SimulatorActor pid=260950)\u001b[0m 2025-01-30 16:30:23,820 INFO:jax_dna.simulators.oxdna.oxdna:oxDNA simulation complete\u001b[32m [repeated 2x across cluster]\u001b[0m\n",
      "\u001b[36m(SimulatorActor pid=260951)\u001b[0m An NVIDIA GPU may be present on this machine, but a CUDA-enabled jaxlib is not installed. Falling back to cpu.\u001b[32m [repeated 3x across cluster]\u001b[0m\n",
      "\u001b[36m(SimulatorActor pid=260951)\u001b[0m 2025-01-30 16:30:51,019 INFO:jax_dna.simulators.oxdna.oxdna:Updating oxDNA parameters\n",
      "\u001b[36m(SimulatorActor pid=260950)\u001b[0m An NVIDIA GPU may be present on this machine, but a CUDA-enabled jaxlib is not installed. Falling back to cpu.\u001b[32m [repeated 2x across cluster]\u001b[0m\n",
      "\u001b[36m(SimulatorActor pid=260951)\u001b[0m 2025-01-30 16:31:47,318 INFO:jax_dna.simulators.oxdna.oxdna:oxDNA binary rebuilt\n",
      "\u001b[36m(SimulatorActor pid=260951)\u001b[0m 2025-01-30 16:31:47,319 INFO:jax_dna.simulators.oxdna.oxdna:oxDNA input file: /home/ryan/repos/jax-dna/sim_outputs/sim0/input\n",
      "\u001b[36m(SimulatorActor pid=260951)\u001b[0m 2025-01-30 16:31:47,320 INFO:jax_dna.simulators.oxdna.oxdna:Starting oxDNA simulation\n",
      "\u001b[36m(SimulatorActor pid=260951)\u001b[0m 2025-01-30 16:31:47,788 INFO:jax_dna.simulators.oxdna.oxdna:oxDNA simulation complete\n",
      "\u001b[36m(SimulatorActor pid=260951)\u001b[0m An NVIDIA GPU may be present on this machine, but a CUDA-enabled jaxlib is not installed. Falling back to cpu.\n",
      "\u001b[36m(SimulatorActor pid=260950)\u001b[0m 2025-01-30 16:31:51,029 INFO:jax_dna.simulators.oxdna.oxdna:oxDNA input file: /home/ryan/repos/jax-dna/sim_outputs/sim1/input\u001b[32m [repeated 2x across cluster]\u001b[0m\n",
      "\u001b[36m(SimulatorActor pid=260950)\u001b[0m 2025-01-30 16:31:51,030 INFO:jax_dna.simulators.oxdna.oxdna:Starting oxDNA simulation\u001b[32m [repeated 2x across cluster]\u001b[0m\n",
      "\u001b[36m(SimulatorActor pid=260950)\u001b[0m 2025-01-30 16:31:51,569 INFO:jax_dna.simulators.oxdna.oxdna:oxDNA simulation complete\u001b[32m [repeated 2x across cluster]\u001b[0m\n",
      "\u001b[36m(SimulatorActor pid=260951)\u001b[0m An NVIDIA GPU may be present on this machine, but a CUDA-enabled jaxlib is not installed. Falling back to cpu.\u001b[32m [repeated 3x across cluster]\u001b[0m\n",
      "\u001b[36m(SimulatorActor pid=260951)\u001b[0m 2025-01-30 16:32:18,712 INFO:jax_dna.simulators.oxdna.oxdna:Updating oxDNA parameters\n",
      "\u001b[36m(SimulatorActor pid=260950)\u001b[0m An NVIDIA GPU may be present on this machine, but a CUDA-enabled jaxlib is not installed. Falling back to cpu.\u001b[32m [repeated 2x across cluster]\u001b[0m\n",
      "\u001b[36m(SimulatorActor pid=260951)\u001b[0m 2025-01-30 16:33:15,104 INFO:jax_dna.simulators.oxdna.oxdna:oxDNA binary rebuilt\n",
      "\u001b[36m(SimulatorActor pid=260951)\u001b[0m 2025-01-30 16:33:15,105 INFO:jax_dna.simulators.oxdna.oxdna:oxDNA input file: /home/ryan/repos/jax-dna/sim_outputs/sim0/input\n",
      "\u001b[36m(SimulatorActor pid=260951)\u001b[0m 2025-01-30 16:33:15,106 INFO:jax_dna.simulators.oxdna.oxdna:Starting oxDNA simulation\n",
      "\u001b[36m(SimulatorActor pid=260951)\u001b[0m 2025-01-30 16:33:15,576 INFO:jax_dna.simulators.oxdna.oxdna:oxDNA simulation complete\n",
      "\u001b[36m(SimulatorActor pid=260951)\u001b[0m An NVIDIA GPU may be present on this machine, but a CUDA-enabled jaxlib is not installed. Falling back to cpu.\n",
      "\u001b[36m(SimulatorActor pid=260950)\u001b[0m 2025-01-30 16:33:18,722 INFO:jax_dna.simulators.oxdna.oxdna:oxDNA input file: /home/ryan/repos/jax-dna/sim_outputs/sim1/input\u001b[32m [repeated 2x across cluster]\u001b[0m\n",
      "\u001b[36m(SimulatorActor pid=260950)\u001b[0m 2025-01-30 16:33:18,723 INFO:jax_dna.simulators.oxdna.oxdna:Starting oxDNA simulation\u001b[32m [repeated 2x across cluster]\u001b[0m\n",
      "\u001b[36m(SimulatorActor pid=260950)\u001b[0m 2025-01-30 16:33:19,262 INFO:jax_dna.simulators.oxdna.oxdna:oxDNA simulation complete\u001b[32m [repeated 2x across cluster]\u001b[0m\n",
      "\u001b[36m(SimulatorActor pid=260951)\u001b[0m An NVIDIA GPU may be present on this machine, but a CUDA-enabled jaxlib is not installed. Falling back to cpu.\u001b[32m [repeated 3x across cluster]\u001b[0m\n",
      "\u001b[36m(SimulatorActor pid=260951)\u001b[0m 2025-01-30 16:33:46,982 INFO:jax_dna.simulators.oxdna.oxdna:Updating oxDNA parameters\n",
      "\u001b[36m(SimulatorActor pid=260950)\u001b[0m An NVIDIA GPU may be present on this machine, but a CUDA-enabled jaxlib is not installed. Falling back to cpu.\u001b[32m [repeated 2x across cluster]\u001b[0m\n",
      "\u001b[36m(SimulatorActor pid=260951)\u001b[0m 2025-01-30 16:34:42,255 INFO:jax_dna.simulators.oxdna.oxdna:oxDNA binary rebuilt\n",
      "\u001b[36m(SimulatorActor pid=260951)\u001b[0m 2025-01-30 16:34:42,256 INFO:jax_dna.simulators.oxdna.oxdna:oxDNA input file: /home/ryan/repos/jax-dna/sim_outputs/sim0/input\n",
      "\u001b[36m(SimulatorActor pid=260951)\u001b[0m 2025-01-30 16:34:42,257 INFO:jax_dna.simulators.oxdna.oxdna:Starting oxDNA simulation\n",
      "\u001b[36m(SimulatorActor pid=260951)\u001b[0m 2025-01-30 16:34:42,731 INFO:jax_dna.simulators.oxdna.oxdna:oxDNA simulation complete\n",
      "\u001b[36m(SimulatorActor pid=260951)\u001b[0m An NVIDIA GPU may be present on this machine, but a CUDA-enabled jaxlib is not installed. Falling back to cpu.\n",
      "\u001b[36m(SimulatorActor pid=260950)\u001b[0m 2025-01-30 16:34:46,987 INFO:jax_dna.simulators.oxdna.oxdna:oxDNA input file: /home/ryan/repos/jax-dna/sim_outputs/sim1/input\u001b[32m [repeated 2x across cluster]\u001b[0m\n",
      "\u001b[36m(SimulatorActor pid=260950)\u001b[0m 2025-01-30 16:34:46,988 INFO:jax_dna.simulators.oxdna.oxdna:Starting oxDNA simulation\u001b[32m [repeated 2x across cluster]\u001b[0m\n",
      "\u001b[36m(SimulatorActor pid=260950)\u001b[0m 2025-01-30 16:34:47,486 INFO:jax_dna.simulators.oxdna.oxdna:oxDNA simulation complete\u001b[32m [repeated 2x across cluster]\u001b[0m\n",
      "\u001b[36m(SimulatorActor pid=260951)\u001b[0m An NVIDIA GPU may be present on this machine, but a CUDA-enabled jaxlib is not installed. Falling back to cpu.\u001b[32m [repeated 3x across cluster]\u001b[0m\n"
     ]
    },
    {
     "name": "stdout",
     "output_type": "stream",
     "text": [
      "loss 0.5974519179044435\n",
      "prop_twist 21.102548082095556\n",
      "loss 0.5533786833253629\n",
      "prop_twist 21.146621316674636\n",
      "loss 0.2547327670868391\n",
      "prop_twist 21.95473276708684\n",
      "loss 0.25742190627375194\n",
      "prop_twist 21.95742190627375\n",
      "loss 0.3128843817610587\n",
      "prop_twist 21.38711561823894\n",
      "loss 0.296586557641735\n",
      "prop_twist 21.403413442358264\n",
      "loss 0.1523194918130315\n",
      "prop_twist 21.85231949181303\n",
      "loss 0.1489189911686104\n",
      "prop_twist 21.84891899116861\n",
      "loss 0.5399510642636507\n",
      "prop_twist 22.23995106426365\n",
      "loss 0.352566844834751\n",
      "prop_twist 21.34743315516525\n"
     ]
    }
   ],
   "source": [
    "for i in range(optimization_config[\"n_steps\"]):\n",
    "    opt_state, opt_params = opt.step(opt_params)\n",
    "\n",
    "    if i % optimization_config[\"log_every\"] == 0:\n",
    "        for objective in opt.objectives:\n",
    "            log_values = ray.get(objective.logging_observables.remote())\n",
    "            for (name, value) in log_values:\n",
    "                logger.log_metric(name, value, step=i)\n",
    "            logger.log_metric(\"target_ptwist\", jd_obs.propeller.TARGETS[\"oxDNA\"], step=i)\n",
    "\n",
    "        for param in opt_params:\n",
    "            for k, v in filter(lambda kv : kv[0] in params_list_flat,  param.items()):\n",
    "                    logger.log_metric(k, v, step=i)\n",
    "\n",
    "\n",
    "    opt = opt.post_step(\n",
    "        optimizer_state=opt_state,\n",
    "        opt_params=opt_params,\n",
    "    )\n",
    "    logger.increment_prog_bar()\n",
    "    # block the oxdna builds so that the simulator that builds can do so\n",
    "    run_flag.set.remote(False)\n"
   ]
  }
 ],
 "metadata": {
  "kernelspec": {
   "display_name": "jax-cpu",
   "language": "python",
   "name": "python3"
  },
  "language_info": {
   "codemirror_mode": {
    "name": "ipython",
    "version": 3
   },
   "file_extension": ".py",
   "mimetype": "text/x-python",
   "name": "python",
   "nbconvert_exporter": "python",
   "pygments_lexer": "ipython3",
   "version": "3.11.0"
  }
 },
 "nbformat": 4,
 "nbformat_minor": 2
}

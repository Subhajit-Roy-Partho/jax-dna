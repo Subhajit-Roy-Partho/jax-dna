{
 "cells": [
  {
   "cell_type": "code",
   "execution_count": 21,
   "metadata": {},
   "outputs": [],
   "source": [
    "import ipywidgets as widgets\n",
    "\n",
    "# notes:\n",
    "# - I think this notebook would be the for the simplest use case\n",
    "# -- A user just has some idea of what the target values are, \n",
    "#    but doesn't set up the energy function\n",
    "# -- The user would then pass the topology, initial configuration, and simulation \n",
    "#    configurations as paths or urls\n",
    "\n",
    "# Would the most basic user also want to change the default energy configuration values"
   ]
  },
  {
   "cell_type": "markdown",
   "metadata": {
    "vscode": {
     "languageId": "plaintext"
    }
   },
   "source": [
    "## `jax_dna` Total Optimization\n",
    "\n",
    "To build a total optimization we need the following things:\n",
    "\n",
    "1. Initial Configuration\n",
    "2. Observables and their target values\n",
    "3. The Resources Available \n",
    "\n",
    "### Get an initial configuration"
   ]
  },
  {
   "cell_type": "code",
   "execution_count": 12,
   "metadata": {
    "jupyter": {
     "source_hidden": true
    }
   },
   "outputs": [
    {
     "data": {
      "application/vnd.jupyter.widget-view+json": {
       "model_id": "8ca6849c401f4c82ae6e98afccd9eed4",
       "version_major": 2,
       "version_minor": 0
      },
      "text/plain": [
       "VBox(children=(Box(children=(Label(value='Observable:'), Label(value='Target'))), Box(children=(Label(value='T…"
      ]
     },
     "execution_count": 12,
     "metadata": {},
     "output_type": "execute_result"
    }
   ],
   "source": [
    "obs_str = [\n",
    "    \"Topology:\", \n",
    "    \"Initial Configuation:\", \n",
    "    \"Input File:\"\n",
    "]\n",
    "obs_val = [\n",
    "    \"https://raw.githubusercontent.com/rkruegs123/jax-dna/refs/heads/master/data/test-data/simple-helix/generated.top\", \n",
    "    \"https://raw.githubusercontent.com/rkruegs123/jax-dna/refs/heads/master/data/test-data/simple-helix/last_conf.dat\", \n",
    "    \"https://raw.githubusercontent.com/rkruegs123/jax-dna/refs/heads/master/data/test-data/simple-helix/input\",\n",
    "]\n",
    "layout = widgets.Layout(grid_template_columns='1fr 1fr')\n",
    "obs_widgets = [widgets.Box([widgets.Label(\"Observable:\"), widgets.Label(\"Target\")])]\n",
    "for os, ov in zip(obs_str, obs_val):\n",
    "    obs_widgets.append(widgets.Box([widgets.Label(os), widgets.Text(value=ov)]))\n",
    "obs_widgets = widgets.VBox(obs_widgets, layout=layout)\n",
    "obs_widgets"
   ]
  },
  {
   "cell_type": "code",
   "execution_count": null,
   "metadata": {
    "jupyter": {
     "source_hidden": true
    }
   },
   "outputs": [],
   "source": [
    "topology = ...\n",
    "init_position = ..."
   ]
  },
  {
   "cell_type": "markdown",
   "metadata": {},
   "source": [
    "### Observables -- Losses"
   ]
  },
  {
   "cell_type": "code",
   "execution_count": 18,
   "metadata": {
    "jupyter": {
     "source_hidden": true
    }
   },
   "outputs": [
    {
     "data": {
      "application/vnd.jupyter.widget-view+json": {
       "model_id": "2166133d9b11406f863de7faf0ddc734",
       "version_major": 2,
       "version_minor": 0
      },
      "text/plain": [
       "VBox(children=(Box(children=(Label(value='Observable:'), Label(value='Target'))), Box(children=(Label(value='P…"
      ]
     },
     "execution_count": 18,
     "metadata": {},
     "output_type": "execute_result"
    }
   ],
   "source": [
    "obs_str = [\"Propeller Twist:\", \"Diameter:\", \"Pitch:\", \"Rise:\", \"RMSE:\"]\n",
    "obs_val = [0.0, 0.0, 0.0, 0.0, 0.0]\n",
    "layout = widgets.Layout(grid_template_columns='1fr 1fr')\n",
    "obs_widgets = [widgets.Box([widgets.Label(\"Observable:\"), widgets.Label(\"Target\")])]\n",
    "for os, ov in zip(obs_str, obs_val):\n",
    "    obs_widgets.append(widgets.Box([widgets.Label(os), widgets.FloatText(value=ov)]))\n",
    "obs_widgets = widgets.VBox(obs_widgets, layout=layout)\n",
    "obs_widgets"
   ]
  },
  {
   "cell_type": "markdown",
   "metadata": {},
   "source": [
    "### Available Resources"
   ]
  },
  {
   "cell_type": "code",
   "execution_count": 10,
   "metadata": {},
   "outputs": [
    {
     "name": "stdout",
     "output_type": "stream",
     "text": [
      "The history saving thread hit an unexpected error (OperationalError('attempt to write a readonly database')).History will not be written to the database.\n"
     ]
    },
    {
     "data": {
      "application/vnd.jupyter.widget-view+json": {
       "model_id": "4d7d9d849b1b43a78ecfd1966126658d",
       "version_major": 2,
       "version_minor": 0
      },
      "text/plain": [
       "VBox(children=(Box(children=(Label(value='GPUs'), IntText(value=0))), Box(children=(Label(value='CPUs'), IntTe…"
      ]
     },
     "execution_count": 10,
     "metadata": {},
     "output_type": "execute_result"
    }
   ],
   "source": [
    "widgets.VBox([\n",
    "    widgets.Box([widgets.Label(\"GPUs\"), widgets.IntText(value=0)]),\n",
    "    widgets.Box([widgets.Label(\"CPUs\"), widgets.IntText(value=0)])\n",
    "])"
   ]
  },
  {
   "cell_type": "markdown",
   "metadata": {},
   "source": [
    "### Run"
   ]
  },
  {
   "cell_type": "code",
   "execution_count": 16,
   "metadata": {},
   "outputs": [
    {
     "data": {
      "application/vnd.jupyter.widget-view+json": {
       "model_id": "17b9224ed97f49b8b446d0c4bc316e35",
       "version_major": 2,
       "version_minor": 0
      },
      "text/plain": [
       "Button(description='Run', style=ButtonStyle())"
      ]
     },
     "execution_count": 16,
     "metadata": {},
     "output_type": "execute_result"
    }
   ],
   "source": [
    "widgets.Button(description=\"Run!\")"
   ]
  },
  {
   "cell_type": "code",
   "execution_count": 19,
   "metadata": {},
   "outputs": [],
   "source": [
    "# We the plot results and progress using tensorboard or comet.ml"
   ]
  },
  {
   "cell_type": "code",
   "execution_count": 20,
   "metadata": {},
   "outputs": [],
   "source": [
    "# The print the final energy function configuration here"
   ]
  }
 ],
 "metadata": {
  "kernelspec": {
   "display_name": "Python 3 (ipykernel)",
   "language": "python",
   "name": "python3"
  },
  "language_info": {
   "codemirror_mode": {
    "name": "ipython",
    "version": 3
   },
   "file_extension": ".py",
   "mimetype": "text/x-python",
   "name": "python",
   "nbconvert_exporter": "python",
   "pygments_lexer": "ipython3",
   "version": "3.11.0"
  }
 },
 "nbformat": 4,
 "nbformat_minor": 4
}

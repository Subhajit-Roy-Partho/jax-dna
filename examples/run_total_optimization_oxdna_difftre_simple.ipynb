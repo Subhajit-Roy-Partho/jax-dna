{
 "cells": [
  {
   "cell_type": "code",
   "execution_count": 1,
   "metadata": {},
   "outputs": [],
   "source": [
    "import os\n",
    "import sys\n",
    "\n",
    "sys.path.append(os.path.join(os.getcwd(), \"..\"))"
   ]
  },
  {
   "cell_type": "code",
   "execution_count": 2,
   "metadata": {},
   "outputs": [],
   "source": [
    "import functools\n",
    "import itertools\n",
    "import logging\n",
    "import os\n",
    "from pathlib import Path\n",
    "import typing\n",
    "import jax\n",
    "import jax.numpy as jnp\n",
    "import jax_md\n",
    "import optax\n",
    "import ray\n",
    "import sys\n",
    "from tqdm import tqdm\n",
    "\n",
    "\n",
    "import jax_dna\n",
    "import jax_dna.energy as jdna_energy\n",
    "import jax_dna.energy.dna1 as dna1_energy\n",
    "import jax_dna.input.toml as toml_reader\n",
    "import jax_dna.input.tree as jdna_tree\n",
    "import jax_dna.observables as jd_obs\n",
    "import jax_dna.optimization.simulator as jdna_simulator\n",
    "import jax_dna.optimization.objective as jdna_objective\n",
    "import jax_dna.optimization.optimization as jdna_optimization\n",
    "import jax_dna.simulators.oxdna as oxdna\n",
    "import jax_dna.simulators.io as jdna_sio\n",
    "import jax_dna.utils.types as jdna_types\n",
    "import jax_dna.ui.loggers.jupyter as jupyter_logger\n",
    "import jax_dna.ui.loggers.console as console_logger\n",
    "from jax_dna.input import topology, trajectory\n",
    "\n",
    "os.environ[oxdna.BIN_PATH_ENV_VAR] = str(Path(\"../../oxDNA/build/bin/oxDNA\").resolve())\n",
    "os.environ[oxdna.BUILD_PATH_ENV_VAR] =  str(Path(\"../../oxDNA/build\").resolve())\n",
    "\n",
    "jax.config.update(\"jax_enable_x64\", True)"
   ]
  },
  {
   "cell_type": "code",
   "execution_count": 3,
   "metadata": {},
   "outputs": [],
   "source": [
    "def tree_mean(trees:tuple[jdna_types.PyTree]) -> jdna_types.PyTree:\n",
    "    if len(trees) <= 1:\n",
    "        return trees[0]\n",
    "    summed = jax.tree.map(operator.add, *trees)\n",
    "    return jax.tree.map(lambda x: x / len(trees), summed)"
   ]
  },
  {
   "cell_type": "code",
   "execution_count": 4,
   "metadata": {},
   "outputs": [
    {
     "name": "stderr",
     "output_type": "stream",
     "text": [
      "2025-01-17 17:05:51,372\tINFO worker.py:1634 -- Connecting to existing Ray cluster at address: 172.30.118.26:6379...\n",
      "2025-01-17 17:05:51,391\tINFO worker.py:1810 -- Connected to Ray cluster. View the dashboard at \u001b[1m\u001b[32m127.0.0.1:8265 \u001b[39m\u001b[22m\n",
      "2025-01-17 17:05:51,457\tINFO packaging.py:600 -- Creating a file package for local module '/home/ryanhausen/repos/jax-dna/examples/../jax_dna'.\n",
      "2025-01-17 17:05:51,543\tINFO packaging.py:392 -- Pushing file package 'gcs://_ray_pkg_fcbc78e9eebb24f6.zip' (1.59MiB) to Ray cluster...\n",
      "2025-01-17 17:05:51,575\tINFO packaging.py:405 -- Successfully pushed file package 'gcs://_ray_pkg_fcbc78e9eebb24f6.zip'.\n"
     ]
    },
    {
     "data": {
      "application/vnd.jupyter.widget-view+json": {
       "model_id": "615e4fedad3543d68bff275a2ddd93f2",
       "version_major": 2,
       "version_minor": 0
      },
      "text/html": [
       "<div class=\"lm-Widget p-Widget lm-Panel p-Panel jp-Cell-outputWrapper\">\n",
       "    <div style=\"margin-left: 50px;display: flex;flex-direction: row;align-items: center\">\n",
       "        <div class=\"jp-RenderedHTMLCommon\" style=\"display: flex; flex-direction: row;\">\n",
       "  <svg viewBox=\"0 0 567 224\" fill=\"none\" xmlns=\"http://www.w3.org/2000/svg\" style=\"height: 3em;\">\n",
       "    <g clip-path=\"url(#clip0_4338_178347)\">\n",
       "        <path d=\"M341.29 165.561H355.29L330.13 129.051C345.63 123.991 354.21 112.051 354.21 94.2307C354.21 71.3707 338.72 58.1807 311.88 58.1807H271V165.561H283.27V131.661H311.8C314.25 131.661 316.71 131.501 319.01 131.351L341.25 165.561H341.29ZM283.29 119.851V70.0007H311.82C331.3 70.0007 342.34 78.2907 342.34 94.5507C342.34 111.271 331.34 119.861 311.82 119.861L283.29 119.851ZM451.4 138.411L463.4 165.561H476.74L428.74 58.1807H416L367.83 165.561H380.83L392.83 138.411H451.4ZM446.19 126.601H398L422 72.1407L446.24 126.601H446.19ZM526.11 128.741L566.91 58.1807H554.35L519.99 114.181L485.17 58.1807H472.44L514.01 129.181V165.541H526.13V128.741H526.11Z\" fill=\"var(--jp-ui-font-color0)\"/>\n",
       "        <path d=\"M82.35 104.44C84.0187 97.8827 87.8248 92.0678 93.1671 87.9146C98.5094 83.7614 105.083 81.5067 111.85 81.5067C118.617 81.5067 125.191 83.7614 130.533 87.9146C135.875 92.0678 139.681 97.8827 141.35 104.44H163.75C164.476 101.562 165.622 98.8057 167.15 96.2605L127.45 56.5605C121.071 60.3522 113.526 61.6823 106.235 60.3005C98.9443 58.9187 92.4094 54.9203 87.8602 49.0574C83.3109 43.1946 81.0609 35.8714 81.5332 28.4656C82.0056 21.0599 85.1679 14.0819 90.4252 8.8446C95.6824 3.60726 102.672 0.471508 110.08 0.0272655C117.487 -0.416977 124.802 1.86091 130.647 6.4324C136.493 11.0039 140.467 17.5539 141.821 24.8501C143.175 32.1463 141.816 39.6859 138 46.0505L177.69 85.7505C182.31 82.9877 187.58 81.4995 192.962 81.4375C198.345 81.3755 203.648 82.742 208.33 85.3976C213.012 88.0532 216.907 91.9029 219.616 96.5544C222.326 101.206 223.753 106.492 223.753 111.875C223.753 117.258 222.326 122.545 219.616 127.197C216.907 131.848 213.012 135.698 208.33 138.353C203.648 141.009 198.345 142.375 192.962 142.313C187.58 142.251 182.31 140.763 177.69 138L138 177.7C141.808 184.071 143.155 191.614 141.79 198.91C140.424 206.205 136.44 212.75 130.585 217.313C124.731 221.875 117.412 224.141 110.004 223.683C102.596 223.226 95.6103 220.077 90.3621 214.828C85.1139 209.58 81.9647 202.595 81.5072 195.187C81.0497 187.779 83.3154 180.459 87.878 174.605C92.4405 168.751 98.9853 164.766 106.281 163.401C113.576 162.035 121.119 163.383 127.49 167.19L167.19 127.49C165.664 124.941 164.518 122.182 163.79 119.3H141.39C139.721 125.858 135.915 131.673 130.573 135.826C125.231 139.98 118.657 142.234 111.89 142.234C105.123 142.234 98.5494 139.98 93.2071 135.826C87.8648 131.673 84.0587 125.858 82.39 119.3H60C58.1878 126.495 53.8086 132.78 47.6863 136.971C41.5641 141.163 34.1211 142.972 26.7579 142.059C19.3947 141.146 12.6191 137.574 7.70605 132.014C2.79302 126.454 0.0813599 119.29 0.0813599 111.87C0.0813599 104.451 2.79302 97.2871 7.70605 91.7272C12.6191 86.1673 19.3947 82.5947 26.7579 81.6817C34.1211 80.7686 41.5641 82.5781 47.6863 86.7696C53.8086 90.9611 58.1878 97.2456 60 104.44H82.35ZM100.86 204.32C103.407 206.868 106.759 208.453 110.345 208.806C113.93 209.159 117.527 208.258 120.522 206.256C123.517 204.254 125.725 201.276 126.771 197.828C127.816 194.38 127.633 190.677 126.253 187.349C124.874 184.021 122.383 181.274 119.205 179.577C116.027 177.88 112.359 177.337 108.826 178.042C105.293 178.746 102.113 180.654 99.8291 183.44C97.5451 186.226 96.2979 189.718 96.3 193.32C96.2985 195.364 96.7006 197.388 97.4831 199.275C98.2656 201.163 99.4132 202.877 100.86 204.32ZM204.32 122.88C206.868 120.333 208.453 116.981 208.806 113.396C209.159 109.811 208.258 106.214 206.256 103.219C204.254 100.223 201.275 98.0151 197.827 96.97C194.38 95.9249 190.676 96.1077 187.348 97.4873C184.02 98.8669 181.274 101.358 179.577 104.536C177.879 107.714 177.337 111.382 178.041 114.915C178.746 118.448 180.653 121.627 183.439 123.911C186.226 126.195 189.717 127.443 193.32 127.44C195.364 127.443 197.388 127.042 199.275 126.259C201.163 125.476 202.878 124.328 204.32 122.88ZM122.88 19.4205C120.333 16.8729 116.981 15.2876 113.395 14.9347C109.81 14.5817 106.213 15.483 103.218 17.4849C100.223 19.4868 98.0146 22.4654 96.9696 25.9131C95.9245 29.3608 96.1073 33.0642 97.4869 36.3922C98.8665 39.7202 101.358 42.4668 104.535 44.1639C107.713 45.861 111.381 46.4036 114.914 45.6992C118.447 44.9949 121.627 43.0871 123.911 40.301C126.195 37.515 127.442 34.0231 127.44 30.4205C127.44 28.3772 127.038 26.3539 126.255 24.4664C125.473 22.5788 124.326 20.8642 122.88 19.4205ZM19.42 100.86C16.8725 103.408 15.2872 106.76 14.9342 110.345C14.5813 113.93 15.4826 117.527 17.4844 120.522C19.4863 123.518 22.4649 125.726 25.9127 126.771C29.3604 127.816 33.0638 127.633 36.3918 126.254C39.7198 124.874 42.4664 122.383 44.1635 119.205C45.8606 116.027 46.4032 112.359 45.6988 108.826C44.9944 105.293 43.0866 102.114 40.3006 99.8296C37.5145 97.5455 34.0227 96.2983 30.42 96.3005C26.2938 96.3018 22.337 97.9421 19.42 100.86ZM100.86 100.86C98.3125 103.408 96.7272 106.76 96.3742 110.345C96.0213 113.93 96.9226 117.527 98.9244 120.522C100.926 123.518 103.905 125.726 107.353 126.771C110.8 127.816 114.504 127.633 117.832 126.254C121.16 124.874 123.906 122.383 125.604 119.205C127.301 116.027 127.843 112.359 127.139 108.826C126.434 105.293 124.527 102.114 121.741 99.8296C118.955 97.5455 115.463 96.2983 111.86 96.3005C109.817 96.299 107.793 96.701 105.905 97.4835C104.018 98.2661 102.303 99.4136 100.86 100.86Z\" fill=\"#00AEEF\"/>\n",
       "    </g>\n",
       "    <defs>\n",
       "        <clipPath id=\"clip0_4338_178347\">\n",
       "            <rect width=\"566.93\" height=\"223.75\" fill=\"white\"/>\n",
       "        </clipPath>\n",
       "    </defs>\n",
       "  </svg>\n",
       "</div>\n",
       "\n",
       "        <table class=\"jp-RenderedHTMLCommon\" style=\"border-collapse: collapse;color: var(--jp-ui-font-color1);font-size: var(--jp-ui-font-size1);\">\n",
       "    <tr>\n",
       "        <td style=\"text-align: left\"><b>Python version:</b></td>\n",
       "        <td style=\"text-align: left\"><b>3.11.0</b></td>\n",
       "    </tr>\n",
       "    <tr>\n",
       "        <td style=\"text-align: left\"><b>Ray version:</b></td>\n",
       "        <td style=\"text-align: left\"><b>2.39.0</b></td>\n",
       "    </tr>\n",
       "    <tr>\n",
       "    <td style=\"text-align: left\"><b>Dashboard:</b></td>\n",
       "    <td style=\"text-align: left\"><b><a href=\"http://127.0.0.1:8265\" target=\"_blank\">http://127.0.0.1:8265</a></b></td>\n",
       "</tr>\n",
       "\n",
       "</table>\n",
       "\n",
       "    </div>\n",
       "</div>\n"
      ],
      "text/plain": [
       "RayContext(dashboard_url='127.0.0.1:8265', python_version='3.11.0', ray_version='2.39.0', ray_commit='5a6c33536df3f6ed5e987a169b82739bb7e3d80e')"
      ]
     },
     "execution_count": 4,
     "metadata": {},
     "output_type": "execute_result"
    }
   ],
   "source": [
    "ray.init(\n",
    "    ignore_reinit_error=True,\n",
    "    log_to_driver=True,\n",
    "    runtime_env={\n",
    "        \"env_vars\": {\n",
    "            \"JAX_ENABLE_X64\": \"True\",\n",
    "            \"JAX_PLATFORM_NAME\": \"cpu\",\n",
    "            \"RAY_DEBUG\": \"1\",\n",
    "        },\n",
    "        \"py_modules\":[jax_dna],\n",
    "    }\n",
    ")"
   ]
  },
  {
   "cell_type": "code",
   "execution_count": 5,
   "metadata": {},
   "outputs": [],
   "source": [
    "objective_logging_config = {\n",
    "    \"level\":logging.DEBUG,\n",
    "    \"filename\":\"objective.log\",\n",
    "    \"filemode\":\"w\",\n",
    "}\n",
    "simulator_logging_config = objective_logging_config | {\"filename\": \"simulator.log\"}"
   ]
  },
  {
   "cell_type": "code",
   "execution_count": 6,
   "metadata": {},
   "outputs": [],
   "source": [
    "optimization_config = {\n",
    "    \"n_steps\": 1000,\n",
    "    \"batch_size\": 1,\n",
    "}\n",
    "\n",
    "simulation_config = toml_reader.parse_toml(\"../jax_dna/input/dna1/default_simulation.toml\")\n",
    "kT = simulation_config[\"kT\"]\n",
    "energy_config = toml_reader.parse_toml(\"../jax_dna/input/dna1/default_energy.toml\")\n",
    "\n",
    "energy_fns = dna1_energy.default_energy_fns()\n",
    "energy_configs = dna1_energy.default_configs()\n",
    "opt_params = []\n",
    "for ec in energy_configs:\n",
    "    opt_params.append(\n",
    "        ec.opt_params if isinstance(ec, dna1_energy.StackingConfiguration) else {}\n",
    "    )\n",
    "\n",
    "for op in opt_params:\n",
    "    if \"ss_stack_weights\" in op:\n",
    "        del op[\"ss_stack_weights\"]\n",
    "# opt_params = [c.opt_params for c in energy_configs]\n",
    "\n",
    "\n",
    "geometry = energy_config[\"geometry\"]\n",
    "transform_fn = functools.partial(\n",
    "    dna1_energy.Nucleotide.from_rigid_body,\n",
    "    com_to_backbone=geometry[\"com_to_backbone\"],\n",
    "    com_to_hb=geometry[\"com_to_hb\"],\n",
    "    com_to_stacking=geometry[\"com_to_stacking\"],\n",
    ")\n",
    "\n",
    "energy_fn_builder_fn = jdna_energy.energy_fn_builder(\n",
    "    energy_fns=energy_fns,\n",
    "    energy_configs=energy_configs,\n",
    "    transform_fn=transform_fn,\n",
    ")\n",
    "\n",
    "topology_fname = \"../data/templates/simple-helix/sys.top\"\n",
    "top = topology.from_oxdna_file(topology_fname)\n",
    "\n",
    "def energy_fn_builder(params: jdna_types.Params) -> callable:\n",
    "    return jax.vmap(\n",
    "        lambda trajectory: energy_fn_builder_fn(params)(\n",
    "            trajectory.rigid_body,\n",
    "            seq=jnp.array(top.seq),\n",
    "            bonded_neighbors=top.bonded_neighbors,\n",
    "            unbonded_neighbors=top.unbonded_neighbors.T,\n",
    "        )\n",
    "    )\n"
   ]
  },
  {
   "cell_type": "markdown",
   "metadata": {},
   "source": [
    "### Simulator "
   ]
  },
  {
   "cell_type": "code",
   "execution_count": 7,
   "metadata": {},
   "outputs": [],
   "source": [
    "input_dir = \"../data/templates/simple-helix\"\n",
    "simulator = oxdna.oxDNASimulator(\n",
    "    input_dir=input_dir,\n",
    "    sim_type=jdna_types.oxDNASimulatorType.DNA1,\n",
    "    energy_configs=energy_configs,\n",
    "    n_build_threads=4,\n",
    "    logger_config=simulator_logging_config,\n",
    ")\n",
    "\n",
    "cwd = Path(os.getcwd())\n",
    "output_dir = cwd / \"basic_trajectory\"\n",
    "trajectory_loc = output_dir / \"trajectory.pkl\"\n",
    "if not output_dir.exists():\n",
    "    output_dir.mkdir(parents=True, exist_ok=True)\n",
    "\n",
    "def simulator_fn(\n",
    "    params: jdna_types.Params,\n",
    "    meta: jdna_types.MetaData,\n",
    ") -> tuple[str, str]:\n",
    "    traj = simulator.run(params)\n",
    "    p = Path(\"energies\")\n",
    "    p.mkdir(parents=True, exist_ok=True)\n",
    "    n = len(list(p.glob(\"*.npy\")))\n",
    "    jnp.save(f\"energies-{n}.npy\", energy_fn_builder(params)(traj))\n",
    "    jdna_tree.save_pytree(traj, trajectory_loc)\n",
    "    return [trajectory_loc]\n",
    "\n",
    "obs_trajectory = \"trajectory\"\n",
    "\n",
    "trajectory_simulator = jdna_simulator.BaseSimulator(\n",
    "    name=\"oxdna-sim\",\n",
    "    fn=simulator_fn,\n",
    "    exposes = [obs_trajectory],\n",
    "    meta_data = {},\n",
    ")"
   ]
  },
  {
   "cell_type": "markdown",
   "metadata": {},
   "source": [
    "### Objective"
   ]
  },
  {
   "cell_type": "code",
   "execution_count": 8,
   "metadata": {},
   "outputs": [],
   "source": [
    "prop_twist_fn = jd_obs.propeller.PropellerTwist(\n",
    "    rigid_body_transform_fn=transform_fn,\n",
    "    h_bonded_base_pairs=jnp.array([[1, 14], [2, 13], [3, 12], [4, 11], [5, 10], [6, 9]])\n",
    ")\n",
    "\n",
    "def prop_twist_loss_fn(\n",
    "    traj: jax_md.rigid_body.RigidBody,\n",
    "    weights: jnp.ndarray,\n",
    "    energy_model: jdna_energy.base.ComposedEnergyFunction,\n",
    ") -> tuple[float, tuple[str, typing.Any]]:\n",
    "    obs = prop_twist_fn(traj)\n",
    "    expected_prop_twist = jnp.dot(weights, obs)\n",
    "    loss = (expected_prop_twist - jd_obs.propeller.TARGETS[\"oxDNA\"])**2\n",
    "    loss = jnp.sqrt(loss)\n",
    "    return loss, ((\"prop_twist\", expected_prop_twist), {})\n",
    "\n",
    "\n",
    "propeller_twist_objective = jdna_objective.DiffTReObjective(\n",
    "    name = \"DiffTRe\",\n",
    "    required_observables = [obs_trajectory],\n",
    "    needed_observables = [obs_trajectory],\n",
    "    logging_observables = [\"loss\", \"prop_twist\", \"neff\"],\n",
    "    grad_or_loss_fn = prop_twist_loss_fn,\n",
    "    energy_fn_builder = energy_fn_builder,\n",
    "    opt_params = opt_params,\n",
    "    trajectory_key = obs_trajectory,\n",
    "    min_n_eff_factor = 0.95,\n",
    "    beta = jnp.array(1/kT),\n",
    "    n_equilibration_steps = 0, # periodic steps are already in oxdna\n",
    ")                               # print intervals are every 100, so we'll toss\n",
    "                                # the first 1000 of the 30000\n",
    "                                # DONT DO THIS FOR OXDNA"
   ]
  },
  {
   "cell_type": "code",
   "execution_count": 9,
   "metadata": {},
   "outputs": [],
   "source": [
    "params_to_log = [\n",
    "    \"eps_stack_base\",\n",
    "    \"eps_stack_kt_coeff\",\n",
    "    [\n",
    "        \"dr_low_stack\",\n",
    "        \"dr_high_stack\",\n",
    "        \"a_stack\",\n",
    "        \"dr0_stack\",\n",
    "        \"dr_c_stack\",\n",
    "    ],\n",
    "    [\n",
    "        \"theta0_stack_4\",\n",
    "        \"delta_theta_star_stack_4\",\n",
    "        \"a_stack_4\",\n",
    "    ],\n",
    "    [\n",
    "        \"theta0_stack_5\",\n",
    "        \"delta_theta_star_stack_5\",\n",
    "        \"a_stack_5\",\n",
    "    ],\n",
    "    [\n",
    "        \"theta0_stack_6\",\n",
    "        \"delta_theta_star_stack_6\",\n",
    "        \"a_stack_6\",\n",
    "    ],\n",
    "    [\n",
    "        \"neg_cos_phi1_star_stack\",\n",
    "        \"a_stack_1\",\n",
    "    ],\n",
    "    [\n",
    "        \"neg_cos_phi2_star_stack\",\n",
    "        \"a_stack_2\",\n",
    "    ],\n",
    "\n",
    "]\n",
    "params_list_flat = list(itertools.chain.from_iterable([[p,] if isinstance(p,str) else p for p in params_to_log]))"
   ]
  },
  {
   "cell_type": "markdown",
   "metadata": {},
   "source": [
    "### Make logger"
   ]
  },
  {
   "cell_type": "code",
   "execution_count": null,
   "metadata": {},
   "outputs": [],
   "source": [
    "# logger = jupyter_logger.JupyterLogger(\n",
    "#     simulators=[\"oxdna-sim\",],\n",
    "#     observables=[\"prop_twist\",],\n",
    "#     objectives=[\"DiffTRe\"],\n",
    "#     metrics_to_log=[\"loss\", [\"prop_twist\", \"target_ptwist\"], \"neff\"],# + params_to_log,\n",
    "#     max_opt_steps=optimization_config[\"n_steps\"],\n",
    "#     plots_size_px=(900, 1400),\n",
    "#     plots_nrows_ncols = (3, 1)\n",
    "# )\n",
    "# logger.show()\n",
    "logger  = console_logger.ConsoleLogger(\n",
    "    log_dir=\"logs\",\n",
    ")"
   ]
  },
  {
   "cell_type": "markdown",
   "metadata": {},
   "source": [
    "### Run optimization"
   ]
  },
  {
   "cell_type": "code",
   "execution_count": 11,
   "metadata": {},
   "outputs": [
    {
     "data": {
      "text/plain": [
       "21.7"
      ]
     },
     "execution_count": 11,
     "metadata": {},
     "output_type": "execute_result"
    }
   ],
   "source": [
    "jd_obs.propeller.TARGETS[\"oxDNA\"]"
   ]
  },
  {
   "cell_type": "code",
   "execution_count": null,
   "metadata": {},
   "outputs": [
    {
     "name": "stderr",
     "output_type": "stream",
     "text": [
      "DEBUG:jax_dna.simulators.oxdna.oxdna:cmake_bin: /bin/cmake\n",
      "DEBUG:jax_dna.simulators.oxdna.oxdna:make_bin: /bin/make\n",
      "INFO:jax_dna.simulators.oxdna.oxdna:Updating oxDNA parameters\n",
      "DEBUG:jax_dna.simulators.oxdna.oxdna:build_dir: /home/ryanhausen/repos/oxDNA/build\n",
      "DEBUG:jax_dna.simulators.oxdna.oxdna:running cmake: std_out->/home/ryanhausen/repos/oxDNA/build/jax_dna.cmake.std.log, std_err->/home/ryanhausen/repos/oxDNA/build/jax_dna.cmake.err.log\n",
      "DEBUG:jax_dna.simulators.oxdna.oxdna:cmake completed\n",
      "DEBUG:jax_dna.simulators.oxdna.oxdna:running make with 4 processes: std_out->/home/ryanhausen/repos/oxDNA/build/jax_dna.make.std.log, std_err->/home/ryanhausen/repos/oxDNA/build/jax_dna.make.err.log\n",
      "INFO:jax_dna.simulators.oxdna.oxdna:oxDNA binary rebuilt\n",
      "INFO:jax_dna.simulators.oxdna.oxdna:oxDNA input file: ../data/templates/simple-helix/input\n",
      "INFO:jax_dna.simulators.oxdna.oxdna:Starting oxDNA simulation\n",
      "DEBUG:jax_dna.simulators.oxdna.oxdna:oxDNA std_out->../data/templates/simple-helix/oxdna.out.log, std_err->../data/templates/simple-helix/oxdna.err.log\n",
      "INFO:jax_dna.simulators.oxdna.oxdna:oxDNA simulation complete\n",
      "DEBUG:jax_dna.simulators.oxdna.oxdna:Restoring oxDNA parameters to original values\n",
      "DEBUG:jax_dna.simulators.oxdna.oxdna:oxDNA trajectory com size: (100, 16, 3)\n"
     ]
    },
    {
     "name": "stdout",
     "output_type": "stream",
     "text": [
      "Step: 0, loss: 0.9820481545404647\n",
      "Step: 0, prop_twist: 20.717951845459535\n",
      "Step: 0, neff: 0.9999999999999996\n",
      "Step: 0, target_ptwist: 21.7\n",
      "Step: 10, loss: 0.8209214624624472\n",
      "Step: 10, prop_twist: 20.879078537537552\n",
      "Step: 10, neff: 0.9969394742960719\n",
      "Step: 10, target_ptwist: 21.7\n",
      "Step: 20, loss: 0.8405092127126608\n",
      "Step: 20, prop_twist: 20.85949078728734\n",
      "Step: 20, neff: 0.9978779769545042\n",
      "Step: 20, target_ptwist: 21.7\n"
     ]
    }
   ],
   "source": [
    "objectives = [propeller_twist_objective]\n",
    "simulators = [trajectory_simulator]\n",
    "\n",
    "opt = jdna_optimization.SimpleOptimizer(\n",
    "    objective=objectives[0],\n",
    "    simulator=simulators[0],\n",
    "    optimizer = optax.adam(learning_rate=1e-3),\n",
    "    logger=logger,\n",
    ")\n",
    "log_every = 10\n",
    "\n",
    "for i in range(optimization_config[\"n_steps\"]):\n",
    "    opt_state, opt_params = opt.step(opt_params)\n",
    "    log_values = objectives[0].logging_observables()\n",
    "\n",
    "    if i % log_every == 0:\n",
    "        for (name, value) in log_values:\n",
    "            logger.log_metric(name, value, step=i)\n",
    "        logger.log_metric(\"target_ptwist\", jd_obs.propeller.TARGETS[\"oxDNA\"], step=i)\n",
    "\n",
    "    opt = opt.post_step(\n",
    "        optimizer_state=opt_state,\n",
    "        opt_params=opt_params,\n",
    "    )\n",
    "    # logger.increment_prog_bar()"
   ]
  }
 ],
 "metadata": {
  "kernelspec": {
   "display_name": "jax_dna",
   "language": "python",
   "name": "python3"
  },
  "language_info": {
   "codemirror_mode": {
    "name": "ipython",
    "version": 3
   },
   "file_extension": ".py",
   "mimetype": "text/x-python",
   "name": "python",
   "nbconvert_exporter": "python",
   "pygments_lexer": "ipython3",
   "version": "3.11.0"
  }
 },
 "nbformat": 4,
 "nbformat_minor": 4
}

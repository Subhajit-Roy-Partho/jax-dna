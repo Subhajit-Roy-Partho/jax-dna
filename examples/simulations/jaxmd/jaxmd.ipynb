{
 "cells": [
  {
   "cell_type": "markdown",
   "metadata": {},
   "source": [
    "## Running a simulation using `jax_dna` and `jax_md`"
   ]
  },
  {
   "cell_type": "code",
   "execution_count": 1,
   "metadata": {},
   "outputs": [],
   "source": [
    "import os\n",
    "import sys\n",
    "sys.path.append(os.path.join(os.getcwd(), \"../../..\"))"
   ]
  },
  {
   "cell_type": "code",
   "execution_count": 2,
   "metadata": {},
   "outputs": [
    {
     "name": "stderr",
     "output_type": "stream",
     "text": [
      "An NVIDIA GPU may be present on this machine, but a CUDA-enabled jaxlib is not installed. Falling back to cpu.\n"
     ]
    }
   ],
   "source": [
    "import functools\n",
    "from pathlib import Path\n",
    "\n",
    "import jax\n",
    "import jax.numpy as jnp\n",
    "import jax_md\n",
    "\n",
    "import jax_dna.energy.dna1 as jdna_energy\n",
    "import jax_dna.input.topology as jdna_top\n",
    "import jax_dna.input.trajectory as jdna_traj\n",
    "import jax_dna.simulators.jax_md as jdna_jaxmd\n",
    "\n",
    "# the default precision for jax is float32\n",
    "jax.config.update(\"jax_enable_x64\", True)"
   ]
  },
  {
   "cell_type": "code",
   "execution_count": 3,
   "metadata": {},
   "outputs": [],
   "source": [
    "# configs specific to this file\n",
    "run_config = {\n",
    "    \"n_steps\": 5_000,\n",
    "}"
   ]
  },
  {
   "cell_type": "markdown",
   "metadata": {},
   "source": [
    "Read the relevant oxDNA files"
   ]
  },
  {
   "cell_type": "code",
   "execution_count": 4,
   "metadata": {},
   "outputs": [
    {
     "name": "stderr",
     "output_type": "stream",
     "text": [
      "An NVIDIA GPU may be present on this machine, but a CUDA-enabled jaxlib is not installed. Falling back to cpu.\n"
     ]
    }
   ],
   "source": [
    "experiment_dir = Path(\"../../../data/sys-defs/simple-helix\")\n",
    "\n",
    "topology = jdna_top.from_oxdna_file(experiment_dir / \"sys.top\")\n",
    "initial_positions = (\n",
    "    jdna_traj.from_file(\n",
    "        experiment_dir / \"bound_relaxed.conf\",\n",
    "        topology.strand_counts,\n",
    "    )\n",
    "    .states[0]\n",
    "    .to_rigid_body()\n",
    ")"
   ]
  },
  {
   "cell_type": "markdown",
   "metadata": {},
   "source": [
    "Setup the energy function"
   ]
  },
  {
   "cell_type": "code",
   "execution_count": 5,
   "metadata": {},
   "outputs": [],
   "source": [
    "experiment_config, energy_config = jdna_energy.default_configs()\n",
    "\n",
    "dt = experiment_config[\"dt\"]\n",
    "kT = experiment_config[\"kT\"]\n",
    "diff_coef = experiment_config[\"diff_coef\"]\n",
    "rot_diff_coef = experiment_config[\"rot_diff_coef\"]\n",
    "\n",
    "# These are special values for the jax_md simulator\n",
    "gamma = jax_md.rigid_body.RigidBody(\n",
    "    center=jnp.array([kT / diff_coef], dtype=jnp.float64),\n",
    "    orientation=jnp.array([kT / rot_diff_coef], dtype=jnp.float64),\n",
    ")\n",
    "mass = jax_md.rigid_body.RigidBody(\n",
    "    center=jnp.array([experiment_config[\"nucleotide_mass\"]], dtype=jnp.float64),\n",
    "    orientation=jnp.array([experiment_config[\"moment_of_inertia\"]], dtype=jnp.float64),\n",
    ")\n",
    "\n",
    "geometry = energy_config[\"geometry\"]\n",
    "transform_fn = functools.partial(\n",
    "    jdna_energy.Nucleotide.from_rigid_body,\n",
    "    com_to_backbone=geometry[\"com_to_backbone\"],\n",
    "    com_to_hb=geometry[\"com_to_hb\"],\n",
    "    com_to_stacking=geometry[\"com_to_stacking\"],\n",
    ")\n",
    "\n",
    "# The jax_md simulator needs an energy function. We can use the default\n",
    "# energy functions and configurations for dna1 simulations. For more\n",
    "# information on energy functions and configurations, see the documentation.\n",
    "energy_fn_configs = jdna_energy.default_energy_configs()\n",
    "params = [{} for _ in range(len(energy_fn_configs))]\n",
    "energy_fns = jdna_energy.default_energy_fns()"
   ]
  },
  {
   "cell_type": "markdown",
   "metadata": {},
   "source": [
    "Setup the simulator"
   ]
  },
  {
   "cell_type": "code",
   "execution_count": 6,
   "metadata": {},
   "outputs": [],
   "source": [
    "simulator = jdna_jaxmd.JaxMDSimulator(\n",
    "    energy_configs=energy_fn_configs,\n",
    "    energy_fns=energy_fns,\n",
    "    topology=topology,\n",
    "    simulator_params=jdna_jaxmd.StaticSimulatorParams(\n",
    "        seq=jnp.array(topology.seq),\n",
    "        mass=mass,\n",
    "        bonded_neighbors=topology.bonded_neighbors,\n",
    "        # this is gradient checkpointing which isn't used in this examples\n",
    "        checkpoint_every=100,\n",
    "        dt=dt,\n",
    "        kT=kT,\n",
    "        gamma=gamma,\n",
    "    ),\n",
    "    space=jax_md.space.free(),\n",
    "    transform_fn=transform_fn,\n",
    "    simulator_init=jax_md.simulate.nvt_langevin,\n",
    "    neighbors=jdna_jaxmd.NoNeighborList(unbonded_nbrs=topology.unbonded_neighbors),\n",
    ")\n",
    "\n",
    "key = jax.random.PRNGKey(0)\n",
    "sim_fn = jax.jit(lambda opts: simulator.run(opts, initial_positions, run_config[\"n_steps\"], key))"
   ]
  },
  {
   "cell_type": "markdown",
   "metadata": {},
   "source": [
    "Run the simulator"
   ]
  },
  {
   "cell_type": "code",
   "execution_count": 7,
   "metadata": {},
   "outputs": [
    {
     "name": "stdout",
     "output_type": "stream",
     "text": [
      "trajectory length = 5000\n"
     ]
    }
   ],
   "source": [
    "trajectory = sim_fn(params)\n",
    "print(\"trajectory length =\", trajectory.length())"
   ]
  }
 ],
 "metadata": {
  "kernelspec": {
   "display_name": "jax-cpu",
   "language": "python",
   "name": "python3"
  },
  "language_info": {
   "codemirror_mode": {
    "name": "ipython",
    "version": 3
   },
   "file_extension": ".py",
   "mimetype": "text/x-python",
   "name": "python",
   "nbconvert_exporter": "python",
   "pygments_lexer": "ipython3",
   "version": "3.11.0"
  }
 },
 "nbformat": 4,
 "nbformat_minor": 4
}

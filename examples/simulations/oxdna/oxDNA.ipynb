{
 "cells": [
  {
   "cell_type": "markdown",
   "metadata": {},
   "source": [
    "## Running a simulation using `jax_dna` and `oxDNA`\n",
    "\n",
    "When just running a simulation `jax_dna` acts as a thin wrapper around the\n",
    "`oxDNA` executable. So you need to have `oxDNA` installed and have the path to\n",
    "the oxDNA executable assigned to the `OXDNA_BIN_PATH` environment variable."
   ]
  },
  {
   "cell_type": "code",
   "execution_count": 1,
   "metadata": {},
   "outputs": [],
   "source": [
    "import os\n",
    "import sys\n",
    "sys.path.append(os.path.join(os.getcwd(), \"../../..\"))\n",
    "os.environ['OXDNA_BIN_PATH'] = input()"
   ]
  },
  {
   "cell_type": "code",
   "execution_count": 2,
   "metadata": {},
   "outputs": [],
   "source": [
    "from pathlib import Path\n",
    "\n",
    "import jax_dna.input.trajectory as jdna_traj\n",
    "import jax_dna.input.topology as jdna_top\n",
    "import jax_dna.simulators.oxdna as jdna_oxdna\n",
    "import jax_dna.utils.types as jdna_types"
   ]
  },
  {
   "cell_type": "code",
   "execution_count": 3,
   "metadata": {},
   "outputs": [
    {
     "name": "stderr",
     "output_type": "stream",
     "text": [
      "2025-01-29 00:38:50,522 INFO:jax_dna.simulators.oxdna.oxdna:oxDNA input file: ../../../data/templates/simple-helix/input\n",
      "2025-01-29 00:38:50,528 INFO:jax_dna.simulators.oxdna.oxdna:Starting oxDNA simulation\n",
      "2025-01-29 00:38:51,193 INFO:jax_dna.simulators.oxdna.oxdna:oxDNA simulation complete\n"
     ]
    },
    {
     "name": "stdout",
     "output_type": "stream",
     "text": [
      "Length of trajectory:  100\n"
     ]
    }
   ],
   "source": [
    "input_dir = Path(\"../../../data/templates/simple-helix\")\n",
    "\n",
    "simulator = jdna_oxdna.oxDNASimulator(\n",
    "    input_dir=input_dir,\n",
    "    sim_type=jdna_types.oxDNASimulatorType.DNA1,\n",
    ")\n",
    "\n",
    "simulator.run()\n",
    "\n",
    "trajectory = jdna_traj.from_file(\n",
    "    input_dir / \"output.dat\",\n",
    "    strand_lengths=jdna_top.from_oxdna_file(input_dir / \"sys.top\").strand_counts,\n",
    ")\n",
    "\n",
    "print(\"Length of trajectory: \", trajectory.state_rigid_body.center.shape[0])"
   ]
  }
 ],
 "metadata": {
  "kernelspec": {
   "display_name": "jax_dna",
   "language": "python",
   "name": "python3"
  },
  "language_info": {
   "codemirror_mode": {
    "name": "ipython",
    "version": 3
   },
   "file_extension": ".py",
   "mimetype": "text/x-python",
   "name": "python",
   "nbconvert_exporter": "python",
   "pygments_lexer": "ipython3",
   "version": "3.11.0"
  }
 },
 "nbformat": 4,
 "nbformat_minor": 2
}
